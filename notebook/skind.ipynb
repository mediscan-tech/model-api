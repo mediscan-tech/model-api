{
 "cells": [
  {
   "cell_type": "code",
   "execution_count": 1,
   "id": "0e5b2569",
   "metadata": {
    "_cell_guid": "b1076dfc-b9ad-4769-8c92-a6c4dae69d19",
    "_uuid": "8f2839f25d086af736a60e9eeb907d3b93b6e0e5",
    "execution": {
     "iopub.execute_input": "2023-03-19T17:39:57.619959Z",
     "iopub.status.busy": "2023-03-19T17:39:57.619454Z",
     "iopub.status.idle": "2023-03-19T17:39:57.631743Z",
     "shell.execute_reply": "2023-03-19T17:39:57.630819Z"
    },
    "papermill": {
     "duration": 0.02983,
     "end_time": "2023-03-19T17:39:57.633982",
     "exception": false,
     "start_time": "2023-03-19T17:39:57.604152",
     "status": "completed"
    },
    "tags": []
   },
   "outputs": [],
   "source": [
    "# This Python 3 environment comes with many helpful analytics libraries installed\n",
    "# It is defined by the kaggle/python Docker image: https://github.com/kaggle/docker-python\n",
    "# For example, here's several helpful packages to load\n",
    "\n",
    "import numpy as np # linear algebra\n",
    "import pandas as pd # data processing, CSV file I/O (e.g. pd.read_csv)\n",
    "# Input data files are available in the read-only \"../input/\" directory\n",
    "# For example, running this (by clicking run or pressing Shift+Enter) will list all files under the input directory\n",
    "import os\n",
    "# for dirname, _, filenames in os.walk('/kaggle/input'):\n",
    "#     for filename in filenames:\n",
    "#         print(os.path.join(dirname, filename))\n",
    "\n",
    "# You can write up to 20GB to the current directory (/kaggle/working/) that gets preserved as output when you create a version using \"Save & Run All\" \n",
    "# You can also write temporary files to /kaggle/temp/, but they won't be saved outside of the current session"
   ]
  },
  {
   "cell_type": "code",
   "execution_count": 4,
   "id": "d637ea19",
   "metadata": {
    "execution": {
     "iopub.execute_input": "2023-03-19T17:39:57.658838Z",
     "iopub.status.busy": "2023-03-19T17:39:57.658236Z",
     "iopub.status.idle": "2023-03-19T17:40:13.659245Z",
     "shell.execute_reply": "2023-03-19T17:40:13.658159Z"
    },
    "papermill": {
     "duration": 16.016255,
     "end_time": "2023-03-19T17:40:13.662175",
     "exception": false,
     "start_time": "2023-03-19T17:39:57.645920",
     "status": "completed"
    },
    "tags": []
   },
   "outputs": [],
   "source": [
    "import matplotlib.pyplot as plt\n",
    "import tensorflow as tf\n",
    "import seaborn as sns\n",
    "import random\n",
    "from PIL import Image\n",
    "from tensorflow.keras.preprocessing import image\n",
    "from tensorflow.keras.applications.inception_v3 import InceptionV3\n",
    "from tensorflow.keras import Sequential, Model\n",
    "from keras.layers import (Conv2D, MaxPooling2D, Dense, Flatten, \\\n",
    "                          Dropout, Input,GlobalAveragePooling2D,BatchNormalization)\n",
    "from tensorflow.keras.activations import softmax\n",
    "from tensorflow.keras.optimizers import Adam\n",
    "from tensorflow.keras.preprocessing.image import ImageDataGenerator\n",
    "from mpl_toolkits.axes_grid1 import ImageGrid\n",
    "from keras.models import Model\n",
    "from keras.applications.vgg16 import VGG16, preprocess_input\n",
    "from keras.callbacks import ModelCheckpoint, EarlyStopping\n",
    "from sklearn.metrics import (ConfusionMatrixDisplay, confusion_matrix, \n",
    "                             accuracy_score)\n",
    "import cv2"
   ]
  },
  {
   "cell_type": "code",
   "execution_count": 5,
   "id": "a1e04cec",
   "metadata": {
    "execution": {
     "iopub.execute_input": "2023-03-19T17:40:13.687233Z",
     "iopub.status.busy": "2023-03-19T17:40:13.686599Z",
     "iopub.status.idle": "2023-03-19T17:40:13.698490Z",
     "shell.execute_reply": "2023-03-19T17:40:13.697555Z"
    },
    "papermill": {
     "duration": 0.026825,
     "end_time": "2023-03-19T17:40:13.700788",
     "exception": false,
     "start_time": "2023-03-19T17:40:13.673963",
     "status": "completed"
    },
    "tags": []
   },
   "outputs": [],
   "source": [
    "train2=os.listdir(\"C:\\\\Users\\\\Rachit Patel\\\\DiseaseClassModel\\\\train\")"
   ]
  },
  {
   "cell_type": "code",
   "execution_count": 6,
   "id": "2a7da8f9",
   "metadata": {
    "execution": {
     "iopub.execute_input": "2023-03-19T17:40:13.726893Z",
     "iopub.status.busy": "2023-03-19T17:40:13.726589Z",
     "iopub.status.idle": "2023-03-19T17:40:13.733613Z",
     "shell.execute_reply": "2023-03-19T17:40:13.732657Z"
    },
    "papermill": {
     "duration": 0.02244,
     "end_time": "2023-03-19T17:40:13.736370",
     "exception": false,
     "start_time": "2023-03-19T17:40:13.713930",
     "status": "completed"
    },
    "tags": []
   },
   "outputs": [
    {
     "data": {
      "text/plain": [
       "['Acne and Rosacea Photos',\n",
       " 'Actinic Keratosis Basal Cell Carcinoma and other Malignant Lesions',\n",
       " 'Atopic Dermatitis Photos',\n",
       " 'Bullous Disease Photos',\n",
       " 'Cellulitis Impetigo and other Bacterial Infections',\n",
       " 'Eczema Photos',\n",
       " 'Exanthems and Drug Eruptions',\n",
       " 'Hair Loss Photos Alopecia and other Hair Diseases',\n",
       " 'Herpes HPV and other STDs Photos',\n",
       " 'Light Diseases and Disorders of Pigmentation',\n",
       " 'Lupus and other Connective Tissue diseases',\n",
       " 'Melanoma Skin Cancer Nevi and Moles',\n",
       " 'Nail Fungus and other Nail Disease',\n",
       " 'Poison Ivy Photos and other Contact Dermatitis',\n",
       " 'Psoriasis pictures Lichen Planus and related diseases',\n",
       " 'Scabies Lyme Disease and other Infestations and Bites',\n",
       " 'Seborrheic Keratoses and other Benign Tumors',\n",
       " 'Systemic Disease',\n",
       " 'Tinea Ringworm Candidiasis and other Fungal Infections',\n",
       " 'Urticaria Hives',\n",
       " 'Vascular Tumors',\n",
       " 'Vasculitis Photos',\n",
       " 'vitiligo',\n",
       " 'Warts Molluscum and other Viral Infections']"
      ]
     },
     "execution_count": 6,
     "metadata": {},
     "output_type": "execute_result"
    }
   ],
   "source": [
    "train2"
   ]
  },
  {
   "cell_type": "code",
   "execution_count": 171,
   "id": "c3f022f8",
   "metadata": {
    "execution": {
     "iopub.execute_input": "2023-03-19T17:40:13.762446Z",
     "iopub.status.busy": "2023-03-19T17:40:13.761351Z",
     "iopub.status.idle": "2023-03-19T17:40:13.766703Z",
     "shell.execute_reply": "2023-03-19T17:40:13.765692Z"
    },
    "papermill": {
     "duration": 0.020376,
     "end_time": "2023-03-19T17:40:13.768950",
     "exception": false,
     "start_time": "2023-03-19T17:40:13.748574",
     "status": "completed"
    },
    "tags": []
   },
   "outputs": [],
   "source": []
  },
  {
   "cell_type": "code",
   "execution_count": 108,
   "id": "5d8260d4",
   "metadata": {
    "execution": {
     "iopub.execute_input": "2023-03-19T17:40:13.794907Z",
     "iopub.status.busy": "2023-03-19T17:40:13.794616Z",
     "iopub.status.idle": "2023-03-19T17:40:13.799634Z",
     "shell.execute_reply": "2023-03-19T17:40:13.798569Z"
    },
    "papermill": {
     "duration": 0.020567,
     "end_time": "2023-03-19T17:40:13.801749",
     "exception": false,
     "start_time": "2023-03-19T17:40:13.781182",
     "status": "completed"
    },
    "tags": []
   },
   "outputs": [],
   "source": [
    "cat=['Acne and Rosacea Photos','Melanoma Skin Cancer Nevi and Moles','vitiligo','Tinea Ringworm Candidiasis and other Fungal Infections','Eczema Photos']"
   ]
  },
  {
   "cell_type": "code",
   "execution_count": 109,
   "id": "0d56d1ca",
   "metadata": {
    "execution": {
     "iopub.execute_input": "2023-03-19T17:40:13.858330Z",
     "iopub.status.busy": "2023-03-19T17:40:13.857614Z",
     "iopub.status.idle": "2023-03-19T17:40:13.865841Z",
     "shell.execute_reply": "2023-03-19T17:40:13.864809Z"
    },
    "papermill": {
     "duration": 0.023758,
     "end_time": "2023-03-19T17:40:13.868045",
     "exception": false,
     "start_time": "2023-03-19T17:40:13.844287",
     "status": "completed"
    },
    "tags": []
   },
   "outputs": [],
   "source": [
    "def data_dictionary():\n",
    "    path_train=\"C:\\\\Users\\\\Rachit Patel\\\\DiseaseClassModel\\\\train\"\n",
    "    path_test=\"C:\\\\Users\\\\Rachit Patel\\\\DiseaseClassModel\\\\test\"\n",
    "    list_train=cat#os.listdir(path_train)\n",
    "    #list_train1=cat2\n",
    "    train_dictionary={\"image_path\":[],\"target\":[]}\n",
    "    test_dictionary={\"image_path\":[],\"target\":[]}\n",
    "    k=0\n",
    "    for i in list_train:\n",
    "        path_disease_train=path_train+\"\\\\\"+i\n",
    "        image_list_train=os.listdir(path_disease_train)\n",
    "        for j in image_list_train:\n",
    "            img_path_train=path_disease_train+\"/\"+j             \n",
    "            train_dictionary[\"image_path\"].append(img_path_train)\n",
    "            train_dictionary['target'].append(k) \n",
    "        k+=1\n",
    "    '''\n",
    "        for i in list_train1:\n",
    "        path_disease_test=path_test+i\n",
    "        image_list_test=os.listdir(path_disease_test)\n",
    "        for j in image_list_test:\n",
    "            img_path_train=path_disease_test+\"/\"+j            \n",
    "            train_dictionary[\"image_path\"].append(img_path_train)\n",
    "            train_dictionary['target'].append(4)\n",
    "    '''\n",
    "\n",
    "    train_df=pd.DataFrame(train_dictionary)\n",
    "    return  train_df"
   ]
  },
  {
   "cell_type": "code",
   "execution_count": 110,
   "id": "184d898f",
   "metadata": {
    "execution": {
     "iopub.execute_input": "2023-03-19T17:40:13.892891Z",
     "iopub.status.busy": "2023-03-19T17:40:13.892607Z",
     "iopub.status.idle": "2023-03-19T17:40:14.554877Z",
     "shell.execute_reply": "2023-03-19T17:40:14.553762Z"
    },
    "papermill": {
     "duration": 0.677485,
     "end_time": "2023-03-19T17:40:14.557500",
     "exception": false,
     "start_time": "2023-03-19T17:40:13.880015",
     "status": "completed"
    },
    "tags": []
   },
   "outputs": [],
   "source": [
    "train=data_dictionary()"
   ]
  },
  {
   "cell_type": "code",
   "execution_count": 111,
   "id": "037d21f6",
   "metadata": {
    "execution": {
     "iopub.execute_input": "2023-03-19T17:40:14.581939Z",
     "iopub.status.busy": "2023-03-19T17:40:14.581621Z",
     "iopub.status.idle": "2023-03-19T17:40:51.716630Z",
     "shell.execute_reply": "2023-03-19T17:40:51.715407Z"
    },
    "papermill": {
     "duration": 37.149944,
     "end_time": "2023-03-19T17:40:51.719227",
     "exception": false,
     "start_time": "2023-03-19T17:40:14.569283",
     "status": "completed"
    },
    "tags": []
   },
   "outputs": [],
   "source": [
    "\n",
    "\n",
    "import cv2\n",
    "images=[]\n",
    "label=[]\n",
    "for i in train['image_path']:\n",
    "    img=cv2.imread(i)\n",
    "    img = cv2.cvtColor(img, cv2.COLOR_BGR2RGB)\n",
    "    img=cv2.resize(img,(180,180))\n",
    "        #img = cv2.cvtColor(img, cv2.COLOR_BGR2GRAY)\n",
    "        #img=cv2.resize(img,(64,64),interpolation=cv2.INTER_AREA)\n",
    "        #img=resize_and_rescale(img)\n",
    "    images.append(img)\n"
   ]
  },
  {
   "cell_type": "code",
   "execution_count": 112,
   "id": "0837660b",
   "metadata": {
    "execution": {
     "iopub.execute_input": "2023-03-19T17:40:51.745451Z",
     "iopub.status.busy": "2023-03-19T17:40:51.744470Z",
     "iopub.status.idle": "2023-03-19T17:40:51.750341Z",
     "shell.execute_reply": "2023-03-19T17:40:51.749457Z"
    },
    "papermill": {
     "duration": 0.020557,
     "end_time": "2023-03-19T17:40:51.752425",
     "exception": false,
     "start_time": "2023-03-19T17:40:51.731868",
     "status": "completed"
    },
    "tags": []
   },
   "outputs": [],
   "source": [
    "label=train['target']"
   ]
  },
  {
   "cell_type": "code",
   "execution_count": 113,
   "id": "b8ca1ca5",
   "metadata": {
    "execution": {
     "iopub.execute_input": "2023-03-19T17:40:51.777190Z",
     "iopub.status.busy": "2023-03-19T17:40:51.776413Z",
     "iopub.status.idle": "2023-03-19T17:40:52.205509Z",
     "shell.execute_reply": "2023-03-19T17:40:52.204475Z"
    },
    "papermill": {
     "duration": 0.44394,
     "end_time": "2023-03-19T17:40:52.207729",
     "exception": false,
     "start_time": "2023-03-19T17:40:51.763789",
     "status": "completed"
    },
    "tags": []
   },
   "outputs": [
    {
     "data": {
      "text/plain": [
       "[Text(0, 0, '1300'),\n",
       " Text(0, 0, '1235'),\n",
       " Text(0, 0, '840'),\n",
       " Text(0, 0, '463'),\n",
       " Text(0, 0, '39')]"
      ]
     },
     "execution_count": 113,
     "metadata": {},
     "output_type": "execute_result"
    },
    {
     "data": {
      "image/png": "[encoded data removed]",
      "text/plain": [
       "<Figure size 640x480 with 1 Axes>"
      ]
     },
     "metadata": {},
     "output_type": "display_data"
    }
   ],
   "source": [
    "import matplotlib.pyplot as plt\n",
    "import tensorflow as tf\n",
    "import seaborn as sns\n",
    "import random\n",
    "from PIL import Image\n",
    "from tensorflow.keras.preprocessing import image\n",
    "from tensorflow.keras.applications.inception_v3 import InceptionV3\n",
    "from tensorflow.keras import Sequential, Model\n",
    "from keras.layers import (Conv2D, MaxPooling2D, Dense, Flatten, \\\n",
    "                          Dropout, Input,GlobalAveragePooling2D,BatchNormalization)\n",
    "from tensorflow.keras.activations import softmax\n",
    "from tensorflow.keras.optimizers import Adam\n",
    "from keras.preprocessing.image import ImageDataGenerator\n",
    "from mpl_toolkits.axes_grid1 import ImageGrid\n",
    "from keras.models import Model\n",
    "from keras.applications.vgg16 import VGG16, preprocess_input\n",
    "from keras.callbacks import ModelCheckpoint, EarlyStopping\n",
    "from sklearn.metrics import (ConfusionMatrixDisplay, confusion_matrix, \\\n",
    "                             accuracy_score)\n",
    "\n",
    "ax = sns.countplot(x=train['target'],\n",
    "                   order=train['target'].value_counts(ascending=False).index)\n",
    "\n",
    "abs_values = train['target'].value_counts(ascending=False).values\n",
    "\n",
    "ax.bar_label(container=ax.containers[0], labels=abs_values)"
   ]
  },
  {
   "cell_type": "code",
   "execution_count": 114,
   "id": "93385c8e",
   "metadata": {
    "execution": {
     "iopub.execute_input": "2023-03-19T17:40:52.232686Z",
     "iopub.status.busy": "2023-03-19T17:40:52.232359Z",
     "iopub.status.idle": "2023-03-19T17:40:52.238427Z",
     "shell.execute_reply": "2023-03-19T17:40:52.237400Z"
    },
    "papermill": {
     "duration": 0.021051,
     "end_time": "2023-03-19T17:40:52.240752",
     "exception": false,
     "start_time": "2023-03-19T17:40:52.219701",
     "status": "completed"
    },
    "tags": []
   },
   "outputs": [
    {
     "data": {
      "text/plain": [
       "3877"
      ]
     },
     "execution_count": 114,
     "metadata": {},
     "output_type": "execute_result"
    }
   ],
   "source": [
    "len(label)"
   ]
  },
  {
   "cell_type": "code",
   "execution_count": 115,
   "id": "bdd43fa3",
   "metadata": {
    "execution": {
     "iopub.execute_input": "2023-03-19T17:40:52.266559Z",
     "iopub.status.busy": "2023-03-19T17:40:52.266229Z",
     "iopub.status.idle": "2023-03-19T17:40:52.272850Z",
     "shell.execute_reply": "2023-03-19T17:40:52.271867Z"
    },
    "papermill": {
     "duration": 0.022057,
     "end_time": "2023-03-19T17:40:52.275000",
     "exception": false,
     "start_time": "2023-03-19T17:40:52.252943",
     "status": "completed"
    },
    "tags": []
   },
   "outputs": [
    {
     "data": {
      "text/plain": [
       "3877"
      ]
     },
     "execution_count": 115,
     "metadata": {},
     "output_type": "execute_result"
    }
   ],
   "source": [
    "len(images)"
   ]
  },
  {
   "cell_type": "code",
   "execution_count": 116,
   "id": "68109642",
   "metadata": {
    "execution": {
     "iopub.execute_input": "2023-03-19T17:40:52.300609Z",
     "iopub.status.busy": "2023-03-19T17:40:52.300278Z",
     "iopub.status.idle": "2023-03-19T17:40:52.306161Z",
     "shell.execute_reply": "2023-03-19T17:40:52.305231Z"
    },
    "papermill": {
     "duration": 0.021331,
     "end_time": "2023-03-19T17:40:52.308290",
     "exception": false,
     "start_time": "2023-03-19T17:40:52.286959",
     "status": "completed"
    },
    "tags": []
   },
   "outputs": [],
   "source": [
    "import numpy as np\n",
    "import pandas as pd"
   ]
  },
  {
   "cell_type": "code",
   "execution_count": 117,
   "id": "4c9a1c95",
   "metadata": {
    "execution": {
     "iopub.execute_input": "2023-03-19T17:40:52.333576Z",
     "iopub.status.busy": "2023-03-19T17:40:52.333277Z",
     "iopub.status.idle": "2023-03-19T17:40:52.405033Z",
     "shell.execute_reply": "2023-03-19T17:40:52.403931Z"
    },
    "papermill": {
     "duration": 0.08737,
     "end_time": "2023-03-19T17:40:52.407556",
     "exception": false,
     "start_time": "2023-03-19T17:40:52.320186",
     "status": "completed"
    },
    "tags": []
   },
   "outputs": [],
   "source": [
    "data=np.array(images)\n"
   ]
  },
  {
   "cell_type": "code",
   "execution_count": 118,
   "id": "f57448a5",
   "metadata": {
    "execution": {
     "iopub.execute_input": "2023-03-19T17:40:52.435554Z",
     "iopub.status.busy": "2023-03-19T17:40:52.433636Z",
     "iopub.status.idle": "2023-03-19T17:40:52.439557Z",
     "shell.execute_reply": "2023-03-19T17:40:52.438575Z"
    },
    "papermill": {
     "duration": 0.021687,
     "end_time": "2023-03-19T17:40:52.441922",
     "exception": false,
     "start_time": "2023-03-19T17:40:52.420235",
     "status": "completed"
    },
    "tags": []
   },
   "outputs": [],
   "source": [
    "label=np.array(label)"
   ]
  },
  {
   "cell_type": "code",
   "execution_count": 119,
   "id": "32ab0ea1",
   "metadata": {
    "execution": {
     "iopub.execute_input": "2023-03-19T17:40:52.467098Z",
     "iopub.status.busy": "2023-03-19T17:40:52.466799Z",
     "iopub.status.idle": "2023-03-19T17:40:52.473097Z",
     "shell.execute_reply": "2023-03-19T17:40:52.471998Z"
    },
    "papermill": {
     "duration": 0.021209,
     "end_time": "2023-03-19T17:40:52.475123",
     "exception": false,
     "start_time": "2023-03-19T17:40:52.453914",
     "status": "completed"
    },
    "tags": []
   },
   "outputs": [
    {
     "data": {
      "text/plain": [
       "(3877, 180, 180, 3)"
      ]
     },
     "execution_count": 119,
     "metadata": {},
     "output_type": "execute_result"
    }
   ],
   "source": [
    "data.shape"
   ]
  },
  {
   "cell_type": "code",
   "execution_count": 120,
   "id": "e9ec6f0c",
   "metadata": {
    "execution": {
     "iopub.execute_input": "2023-03-19T17:40:52.500399Z",
     "iopub.status.busy": "2023-03-19T17:40:52.499634Z",
     "iopub.status.idle": "2023-03-19T17:40:52.506049Z",
     "shell.execute_reply": "2023-03-19T17:40:52.504974Z"
    },
    "papermill": {
     "duration": 0.021523,
     "end_time": "2023-03-19T17:40:52.508489",
     "exception": false,
     "start_time": "2023-03-19T17:40:52.486966",
     "status": "completed"
    },
    "tags": []
   },
   "outputs": [
    {
     "data": {
      "text/plain": [
       "(3877,)"
      ]
     },
     "execution_count": 120,
     "metadata": {},
     "output_type": "execute_result"
    }
   ],
   "source": [
    "label.shape"
   ]
  },
  {
   "cell_type": "code",
   "execution_count": 121,
   "id": "d3707ffa",
   "metadata": {
    "execution": {
     "iopub.execute_input": "2023-03-19T17:40:52.534222Z",
     "iopub.status.busy": "2023-03-19T17:40:52.533908Z",
     "iopub.status.idle": "2023-03-19T17:40:52.634619Z",
     "shell.execute_reply": "2023-03-19T17:40:52.633569Z"
    },
    "papermill": {
     "duration": 0.116557,
     "end_time": "2023-03-19T17:40:52.637314",
     "exception": false,
     "start_time": "2023-03-19T17:40:52.520757",
     "status": "completed"
    },
    "tags": []
   },
   "outputs": [],
   "source": [
    "from sklearn.model_selection import train_test_split\n",
    "X_train, X_test, y_train, y_test  = train_test_split(data, label, test_size=0.2,random_state=4)\n",
    "#X_train, X_validation, y_train, y_validation = train_test_split(X_train, y_train, test_size=0.2,random_state=1)"
   ]
  },
  {
   "cell_type": "code",
   "execution_count": 122,
   "id": "94fcea93",
   "metadata": {
    "execution": {
     "iopub.execute_input": "2023-03-19T17:40:52.663407Z",
     "iopub.status.busy": "2023-03-19T17:40:52.663103Z",
     "iopub.status.idle": "2023-03-19T17:40:52.669352Z",
     "shell.execute_reply": "2023-03-19T17:40:52.668361Z"
    },
    "papermill": {
     "duration": 0.021847,
     "end_time": "2023-03-19T17:40:52.671772",
     "exception": false,
     "start_time": "2023-03-19T17:40:52.649925",
     "status": "completed"
    },
    "tags": []
   },
   "outputs": [
    {
     "data": {
      "text/plain": [
       "(3101, 180, 180, 3)"
      ]
     },
     "execution_count": 122,
     "metadata": {},
     "output_type": "execute_result"
    }
   ],
   "source": [
    "X_train.shape"
   ]
  },
  {
   "cell_type": "code",
   "execution_count": 123,
   "id": "aa052f11",
   "metadata": {
    "execution": {
     "iopub.execute_input": "2023-03-19T17:40:52.697867Z",
     "iopub.status.busy": "2023-03-19T17:40:52.697585Z",
     "iopub.status.idle": "2023-03-19T17:40:52.703918Z",
     "shell.execute_reply": "2023-03-19T17:40:52.702904Z"
    },
    "papermill": {
     "duration": 0.022121,
     "end_time": "2023-03-19T17:40:52.706201",
     "exception": false,
     "start_time": "2023-03-19T17:40:52.684080",
     "status": "completed"
    },
    "tags": []
   },
   "outputs": [
    {
     "data": {
      "text/plain": [
       "(776, 180, 180, 3)"
      ]
     },
     "execution_count": 123,
     "metadata": {},
     "output_type": "execute_result"
    }
   ],
   "source": [
    "X_test.shape"
   ]
  },
  {
   "cell_type": "code",
   "execution_count": 128,
   "id": "c03da512",
   "metadata": {
    "execution": {
     "iopub.execute_input": "2023-03-19T17:40:52.733999Z",
     "iopub.status.busy": "2023-03-19T17:40:52.733387Z",
     "iopub.status.idle": "2023-03-19T17:40:52.740183Z",
     "shell.execute_reply": "2023-03-19T17:40:52.739204Z"
    },
    "papermill": {
     "duration": 0.023096,
     "end_time": "2023-03-19T17:40:52.742423",
     "exception": false,
     "start_time": "2023-03-19T17:40:52.719327",
     "status": "completed"
    },
    "tags": []
   },
   "outputs": [
    {
     "data": {
      "text/plain": [
       "(776, 5)"
      ]
     },
     "execution_count": 128,
     "metadata": {},
     "output_type": "execute_result"
    }
   ],
   "source": [
    "y_test.shape"
   ]
  },
  {
   "cell_type": "code",
   "execution_count": 125,
   "id": "e408506a",
   "metadata": {
    "execution": {
     "iopub.execute_input": "2023-03-19T17:40:52.768386Z",
     "iopub.status.busy": "2023-03-19T17:40:52.768114Z",
     "iopub.status.idle": "2023-03-19T17:40:52.773467Z",
     "shell.execute_reply": "2023-03-19T17:40:52.772580Z"
    },
    "papermill": {
     "duration": 0.020665,
     "end_time": "2023-03-19T17:40:52.775555",
     "exception": false,
     "start_time": "2023-03-19T17:40:52.754890",
     "status": "completed"
    },
    "tags": []
   },
   "outputs": [],
   "source": [
    "import keras\n",
    "num_classes = 5\n",
    "y_train = keras.utils.to_categorical(y_train, num_classes)\n"
   ]
  },
  {
   "cell_type": "code",
   "execution_count": 126,
   "id": "1aae26c7",
   "metadata": {
    "execution": {
     "iopub.execute_input": "2023-03-19T17:40:52.801904Z",
     "iopub.status.busy": "2023-03-19T17:40:52.801625Z",
     "iopub.status.idle": "2023-03-19T17:40:52.806567Z",
     "shell.execute_reply": "2023-03-19T17:40:52.805482Z"
    },
    "papermill": {
     "duration": 0.020661,
     "end_time": "2023-03-19T17:40:52.808860",
     "exception": false,
     "start_time": "2023-03-19T17:40:52.788199",
     "status": "completed"
    },
    "tags": []
   },
   "outputs": [],
   "source": [
    "y_test=keras.utils.to_categorical(y_test, num_classes)"
   ]
  },
  {
   "cell_type": "code",
   "execution_count": 127,
   "id": "183c00b2",
   "metadata": {
    "execution": {
     "iopub.execute_input": "2023-03-19T17:40:52.837090Z",
     "iopub.status.busy": "2023-03-19T17:40:52.836741Z",
     "iopub.status.idle": "2023-03-19T17:40:52.843500Z",
     "shell.execute_reply": "2023-03-19T17:40:52.842553Z"
    },
    "papermill": {
     "duration": 0.023008,
     "end_time": "2023-03-19T17:40:52.845541",
     "exception": false,
     "start_time": "2023-03-19T17:40:52.822533",
     "status": "completed"
    },
    "tags": []
   },
   "outputs": [
    {
     "data": {
      "text/plain": [
       "(776, 5)"
      ]
     },
     "execution_count": 127,
     "metadata": {},
     "output_type": "execute_result"
    }
   ],
   "source": [
    "y_test.shape"
   ]
  },
  {
   "cell_type": "code",
   "execution_count": 129,
   "id": "63c94616",
   "metadata": {
    "execution": {
     "iopub.execute_input": "2023-03-19T17:40:52.873220Z",
     "iopub.status.busy": "2023-03-19T17:40:52.872233Z",
     "iopub.status.idle": "2023-03-19T17:40:52.879266Z",
     "shell.execute_reply": "2023-03-19T17:40:52.878216Z"
    },
    "papermill": {
     "duration": 0.023194,
     "end_time": "2023-03-19T17:40:52.881457",
     "exception": false,
     "start_time": "2023-03-19T17:40:52.858263",
     "status": "completed"
    },
    "tags": []
   },
   "outputs": [
    {
     "data": {
      "text/plain": [
       "(3101, 5)"
      ]
     },
     "execution_count": 129,
     "metadata": {},
     "output_type": "execute_result"
    }
   ],
   "source": [
    "y_train.shape"
   ]
  },
  {
   "cell_type": "code",
   "execution_count": 130,
   "id": "fb079668",
   "metadata": {
    "execution": {
     "iopub.execute_input": "2023-03-19T17:40:52.908861Z",
     "iopub.status.busy": "2023-03-19T17:40:52.907980Z",
     "iopub.status.idle": "2023-03-19T17:40:52.913782Z",
     "shell.execute_reply": "2023-03-19T17:40:52.912910Z"
    },
    "papermill": {
     "duration": 0.021505,
     "end_time": "2023-03-19T17:40:52.915825",
     "exception": false,
     "start_time": "2023-03-19T17:40:52.894320",
     "status": "completed"
    },
    "tags": []
   },
   "outputs": [],
   "source": [
    "from tensorflow.keras.applications import  VGG19,EfficientNetB0,VGG16,InceptionV3,ResNet50,EfficientNetB3\n",
    "from tensorflow.keras.models import Model\n",
    "from keras.applications.vgg16 import preprocess_input\n"
   ]
  },
  {
   "cell_type": "code",
   "execution_count": 131,
   "id": "2c63a75d",
   "metadata": {
    "execution": {
     "iopub.execute_input": "2023-03-19T17:40:52.942787Z",
     "iopub.status.busy": "2023-03-19T17:40:52.942014Z",
     "iopub.status.idle": "2023-03-19T17:41:00.723439Z",
     "shell.execute_reply": "2023-03-19T17:41:00.722280Z"
    },
    "papermill": {
     "duration": 7.797884,
     "end_time": "2023-03-19T17:41:00.726270",
     "exception": false,
     "start_time": "2023-03-19T17:40:52.928386",
     "status": "completed"
    },
    "tags": []
   },
   "outputs": [],
   "source": [
    "vgg_model = EfficientNetB0(weights = 'imagenet',  include_top = False, input_shape = (180, 180, 3)) "
   ]
  },
  {
   "cell_type": "code",
   "execution_count": 132,
   "id": "c47a2923",
   "metadata": {
    "execution": {
     "iopub.execute_input": "2023-03-19T17:41:00.755543Z",
     "iopub.status.busy": "2023-03-19T17:41:00.755169Z",
     "iopub.status.idle": "2023-03-19T17:41:00.767018Z",
     "shell.execute_reply": "2023-03-19T17:41:00.766267Z"
    },
    "papermill": {
     "duration": 0.028882,
     "end_time": "2023-03-19T17:41:00.769042",
     "exception": false,
     "start_time": "2023-03-19T17:41:00.740160",
     "status": "completed"
    },
    "tags": []
   },
   "outputs": [],
   "source": [
    "# let's make all layers non-trainable\n",
    "for layer in vgg_model.layers : \n",
    "    layer.trainable = False"
   ]
  },
  {
   "cell_type": "code",
   "execution_count": 133,
   "id": "9bf0cd4e",
   "metadata": {
    "execution": {
     "iopub.execute_input": "2023-03-19T17:41:00.798839Z",
     "iopub.status.busy": "2023-03-19T17:41:00.797153Z",
     "iopub.status.idle": "2023-03-19T17:41:23.283623Z",
     "shell.execute_reply": "2023-03-19T17:41:23.282392Z"
    },
    "papermill": {
     "duration": 22.503992,
     "end_time": "2023-03-19T17:41:23.286634",
     "exception": false,
     "start_time": "2023-03-19T17:41:00.782642",
     "status": "completed"
    },
    "tags": []
   },
   "outputs": [
    {
     "name": "stdout",
     "output_type": "stream",
     "text": [
      "97/97 [==============================] - 39s 390ms/step\n"
     ]
    }
   ],
   "source": [
    "features_train=vgg_model.predict(X_train)"
   ]
  },
  {
   "cell_type": "code",
   "execution_count": 134,
   "id": "a1ee7114",
   "metadata": {
    "execution": {
     "iopub.execute_input": "2023-03-19T17:41:23.317277Z",
     "iopub.status.busy": "2023-03-19T17:41:23.316961Z",
     "iopub.status.idle": "2023-03-19T17:41:24.592347Z",
     "shell.execute_reply": "2023-03-19T17:41:24.591235Z"
    },
    "papermill": {
     "duration": 1.293645,
     "end_time": "2023-03-19T17:41:24.595126",
     "exception": false,
     "start_time": "2023-03-19T17:41:23.301481",
     "status": "completed"
    },
    "tags": []
   },
   "outputs": [
    {
     "name": "stdout",
     "output_type": "stream",
     "text": [
      "25/25 [==============================] - 9s 369ms/step\n"
     ]
    }
   ],
   "source": [
    "features_test=vgg_model.predict(X_test)"
   ]
  },
  {
   "cell_type": "code",
   "execution_count": 135,
   "id": "e88072f4",
   "metadata": {
    "execution": {
     "iopub.execute_input": "2023-03-19T17:41:24.627223Z",
     "iopub.status.busy": "2023-03-19T17:41:24.626284Z",
     "iopub.status.idle": "2023-03-19T17:41:24.633061Z",
     "shell.execute_reply": "2023-03-19T17:41:24.631960Z"
    },
    "papermill": {
     "duration": 0.024713,
     "end_time": "2023-03-19T17:41:24.635133",
     "exception": false,
     "start_time": "2023-03-19T17:41:24.610420",
     "status": "completed"
    },
    "tags": []
   },
   "outputs": [
    {
     "data": {
      "text/plain": [
       "(3101, 6, 6, 1280)"
      ]
     },
     "execution_count": 135,
     "metadata": {},
     "output_type": "execute_result"
    }
   ],
   "source": [
    "features_train.shape"
   ]
  },
  {
   "cell_type": "code",
   "execution_count": 136,
   "id": "60a77124",
   "metadata": {
    "execution": {
     "iopub.execute_input": "2023-03-19T17:41:24.668778Z",
     "iopub.status.busy": "2023-03-19T17:41:24.667200Z",
     "iopub.status.idle": "2023-03-19T17:41:24.675051Z",
     "shell.execute_reply": "2023-03-19T17:41:24.673956Z"
    },
    "papermill": {
     "duration": 0.02632,
     "end_time": "2023-03-19T17:41:24.677228",
     "exception": false,
     "start_time": "2023-03-19T17:41:24.650908",
     "status": "completed"
    },
    "tags": []
   },
   "outputs": [
    {
     "data": {
      "text/plain": [
       "(776, 6, 6, 1280)"
      ]
     },
     "execution_count": 136,
     "metadata": {},
     "output_type": "execute_result"
    }
   ],
   "source": [
    "features_test.shape"
   ]
  },
  {
   "cell_type": "code",
   "execution_count": 137,
   "id": "98dac4c4",
   "metadata": {
    "execution": {
     "iopub.execute_input": "2023-03-19T17:41:24.709910Z",
     "iopub.status.busy": "2023-03-19T17:41:24.709063Z",
     "iopub.status.idle": "2023-03-19T17:41:24.714313Z",
     "shell.execute_reply": "2023-03-19T17:41:24.713320Z"
    },
    "papermill": {
     "duration": 0.024205,
     "end_time": "2023-03-19T17:41:24.716416",
     "exception": false,
     "start_time": "2023-03-19T17:41:24.692211",
     "status": "completed"
    },
    "tags": []
   },
   "outputs": [],
   "source": [
    "num_train=X_train.shape[0]\n",
    "num_test=X_test.shape[0]"
   ]
  },
  {
   "cell_type": "code",
   "execution_count": 138,
   "id": "a0d70070",
   "metadata": {
    "execution": {
     "iopub.execute_input": "2023-03-19T17:41:24.748656Z",
     "iopub.status.busy": "2023-03-19T17:41:24.747843Z",
     "iopub.status.idle": "2023-03-19T17:41:24.752309Z",
     "shell.execute_reply": "2023-03-19T17:41:24.751373Z"
    },
    "papermill": {
     "duration": 0.022799,
     "end_time": "2023-03-19T17:41:24.754501",
     "exception": false,
     "start_time": "2023-03-19T17:41:24.731702",
     "status": "completed"
    },
    "tags": []
   },
   "outputs": [],
   "source": [
    "x_test=features_test.reshape(num_test,-1)"
   ]
  },
  {
   "cell_type": "code",
   "execution_count": 139,
   "id": "ee0f4f4d",
   "metadata": {},
   "outputs": [
    {
     "data": {
      "text/plain": [
       "(3101, 5)"
      ]
     },
     "execution_count": 139,
     "metadata": {},
     "output_type": "execute_result"
    }
   ],
   "source": [
    "y_train.shape"
   ]
  },
  {
   "cell_type": "code",
   "execution_count": 140,
   "id": "76c27dac",
   "metadata": {
    "execution": {
     "iopub.execute_input": "2023-03-19T17:41:24.787058Z",
     "iopub.status.busy": "2023-03-19T17:41:24.786731Z",
     "iopub.status.idle": "2023-03-19T17:41:24.793405Z",
     "shell.execute_reply": "2023-03-19T17:41:24.792281Z"
    },
    "papermill": {
     "duration": 0.025858,
     "end_time": "2023-03-19T17:41:24.795755",
     "exception": false,
     "start_time": "2023-03-19T17:41:24.769897",
     "status": "completed"
    },
    "tags": []
   },
   "outputs": [
    {
     "data": {
      "text/plain": [
       "(776, 46080)"
      ]
     },
     "execution_count": 140,
     "metadata": {},
     "output_type": "execute_result"
    }
   ],
   "source": [
    "x_test.shape"
   ]
  },
  {
   "cell_type": "code",
   "execution_count": 141,
   "id": "e72a8254",
   "metadata": {
    "execution": {
     "iopub.execute_input": "2023-03-19T17:41:24.828217Z",
     "iopub.status.busy": "2023-03-19T17:41:24.827612Z",
     "iopub.status.idle": "2023-03-19T17:41:24.832215Z",
     "shell.execute_reply": "2023-03-19T17:41:24.831204Z"
    },
    "papermill": {
     "duration": 0.0233,
     "end_time": "2023-03-19T17:41:24.834407",
     "exception": false,
     "start_time": "2023-03-19T17:41:24.811107",
     "status": "completed"
    },
    "tags": []
   },
   "outputs": [],
   "source": [
    "x_train=features_train.reshape(num_train,-1)"
   ]
  },
  {
   "cell_type": "code",
   "execution_count": 142,
   "id": "a7a4fb2b",
   "metadata": {
    "execution": {
     "iopub.execute_input": "2023-03-19T17:41:24.866225Z",
     "iopub.status.busy": "2023-03-19T17:41:24.865408Z",
     "iopub.status.idle": "2023-03-19T17:41:24.871107Z",
     "shell.execute_reply": "2023-03-19T17:41:24.870169Z"
    },
    "papermill": {
     "duration": 0.023643,
     "end_time": "2023-03-19T17:41:24.873180",
     "exception": false,
     "start_time": "2023-03-19T17:41:24.849537",
     "status": "completed"
    },
    "tags": []
   },
   "outputs": [],
   "source": [
    "from tensorflow.keras.models import Sequential\n",
    "from tensorflow.keras.layers import Conv2D,MaxPooling2D,Flatten, Dense\n"
   ]
  },
  {
   "cell_type": "code",
   "execution_count": 143,
   "id": "4cb8f367",
   "metadata": {
    "papermill": {
     "duration": 0.014784,
     "end_time": "2023-03-19T17:41:24.902766",
     "exception": false,
     "start_time": "2023-03-19T17:41:24.887982",
     "status": "completed"
    },
    "tags": []
   },
   "outputs": [
    {
     "data": {
      "text/plain": [
       "(3101, 46080)"
      ]
     },
     "execution_count": 143,
     "metadata": {},
     "output_type": "execute_result"
    }
   ],
   "source": [
    "x_train.shape"
   ]
  },
  {
   "cell_type": "code",
   "execution_count": 144,
   "id": "43bf4ec6",
   "metadata": {
    "execution": {
     "iopub.execute_input": "2023-03-19T17:41:24.934945Z",
     "iopub.status.busy": "2023-03-19T17:41:24.934069Z",
     "iopub.status.idle": "2023-03-19T17:41:24.946923Z",
     "shell.execute_reply": "2023-03-19T17:41:24.946004Z"
    },
    "papermill": {
     "duration": 0.031171,
     "end_time": "2023-03-19T17:41:24.949095",
     "exception": false,
     "start_time": "2023-03-19T17:41:24.917924",
     "status": "completed"
    },
    "tags": []
   },
   "outputs": [],
   "source": [
    "model=Sequential([\n",
    "                  Dense(1024,activation='relu'),\n",
    "                   Dense(512,activation='relu'),\n",
    "                  Dense(256,activation='relu'),\n",
    "                  Dense(5,activation='softmax'),\n",
    "\n",
    "])"
   ]
  },
  {
   "cell_type": "code",
   "execution_count": 145,
   "id": "be11f9d1",
   "metadata": {
    "execution": {
     "iopub.execute_input": "2023-03-19T17:41:24.980802Z",
     "iopub.status.busy": "2023-03-19T17:41:24.979999Z",
     "iopub.status.idle": "2023-03-19T17:41:24.987074Z",
     "shell.execute_reply": "2023-03-19T17:41:24.986040Z"
    },
    "papermill": {
     "duration": 0.024908,
     "end_time": "2023-03-19T17:41:24.989158",
     "exception": false,
     "start_time": "2023-03-19T17:41:24.964250",
     "status": "completed"
    },
    "tags": []
   },
   "outputs": [
    {
     "data": {
      "text/plain": [
       "(776, 46080)"
      ]
     },
     "execution_count": 145,
     "metadata": {},
     "output_type": "execute_result"
    }
   ],
   "source": [
    "x_test.shape"
   ]
  },
  {
   "cell_type": "code",
   "execution_count": 146,
   "id": "c50bb8e3",
   "metadata": {
    "execution": {
     "iopub.execute_input": "2023-03-19T17:41:25.021316Z",
     "iopub.status.busy": "2023-03-19T17:41:25.020417Z",
     "iopub.status.idle": "2023-03-19T17:41:25.024993Z",
     "shell.execute_reply": "2023-03-19T17:41:25.023947Z"
    },
    "papermill": {
     "duration": 0.022836,
     "end_time": "2023-03-19T17:41:25.027095",
     "exception": false,
     "start_time": "2023-03-19T17:41:25.004259",
     "status": "completed"
    },
    "tags": []
   },
   "outputs": [],
   "source": [
    "from keras.callbacks import ModelCheckpoint, ReduceLROnPlateau"
   ]
  },
  {
   "cell_type": "code",
   "execution_count": 147,
   "id": "651c29e8",
   "metadata": {
    "execution": {
     "iopub.execute_input": "2023-03-19T17:41:25.059166Z",
     "iopub.status.busy": "2023-03-19T17:41:25.058296Z",
     "iopub.status.idle": "2023-03-19T17:41:25.063949Z",
     "shell.execute_reply": "2023-03-19T17:41:25.062934Z"
    },
    "papermill": {
     "duration": 0.024035,
     "end_time": "2023-03-19T17:41:25.066097",
     "exception": false,
     "start_time": "2023-03-19T17:41:25.042062",
     "status": "completed"
    },
    "tags": []
   },
   "outputs": [],
   "source": [
    "mcp_save = ModelCheckpoint('EnetB0_CIFAR10_TL.h5', save_best_only=True, monitor='val_acc')\n",
    "reduce_lr = ReduceLROnPlateau(monitor='val_acc', factor=0.5, patience=2, verbose=1,)"
   ]
  },
  {
   "cell_type": "code",
   "execution_count": 148,
   "id": "acdf5ad7",
   "metadata": {
    "execution": {
     "iopub.execute_input": "2023-03-19T17:41:25.098618Z",
     "iopub.status.busy": "2023-03-19T17:41:25.098302Z",
     "iopub.status.idle": "2023-03-19T17:41:25.114920Z",
     "shell.execute_reply": "2023-03-19T17:41:25.114025Z"
    },
    "papermill": {
     "duration": 0.035497,
     "end_time": "2023-03-19T17:41:25.117119",
     "exception": false,
     "start_time": "2023-03-19T17:41:25.081622",
     "status": "completed"
    },
    "tags": []
   },
   "outputs": [],
   "source": [
    "model.compile(optimizer='adam',loss='categorical_crossentropy',metrics=['accuracy'])"
   ]
  },
  {
   "cell_type": "code",
   "execution_count": null,
   "id": "3232ab63",
   "metadata": {},
   "outputs": [],
   "source": [
    "'''custom_early_stopping = EarlyStopping(\n",
    "    monitor='val_loss', \n",
    "    patience=10, \n",
    "    min_delta=0.001, \n",
    "    mode='min'\n",
    ")'''"
   ]
  },
  {
   "cell_type": "code",
   "execution_count": 152,
   "id": "74efb3ff",
   "metadata": {
    "execution": {
     "iopub.execute_input": "2023-03-19T17:41:25.148584Z",
     "iopub.status.busy": "2023-03-19T17:41:25.148290Z",
     "iopub.status.idle": "2023-03-19T17:42:07.584969Z",
     "shell.execute_reply": "2023-03-19T17:42:07.583884Z"
    },
    "papermill": {
     "duration": 42.455156,
     "end_time": "2023-03-19T17:42:07.587624",
     "exception": false,
     "start_time": "2023-03-19T17:41:25.132468",
     "status": "completed"
    },
    "tags": []
   },
   "outputs": [
    {
     "name": "stdout",
     "output_type": "stream",
     "text": [
      "Epoch 1/4\n",
      "97/97 [==============================] - ETA: 0s - loss: 0.0792 - accuracy: 0.9768WARNING:tensorflow:Can save best model only with val_acc available, skipping.\n",
      "WARNING:tensorflow:Learning rate reduction is conditioned on metric `val_acc` which is not available. Available metrics are: loss,accuracy,val_loss,val_accuracy,lr\n",
      "97/97 [==============================] - 30s 311ms/step - loss: 0.0792 - accuracy: 0.9768 - val_loss: 1.4817 - val_accuracy: 0.7758 - lr: 0.0010\n",
      "Epoch 2/4\n",
      "97/97 [==============================] - ETA: 0s - loss: 0.0583 - accuracy: 0.9842WARNING:tensorflow:Can save best model only with val_acc available, skipping.\n",
      "WARNING:tensorflow:Learning rate reduction is conditioned on metric `val_acc` which is not available. Available metrics are: loss,accuracy,val_loss,val_accuracy,lr\n",
      "97/97 [==============================] - 29s 301ms/step - loss: 0.0583 - accuracy: 0.9842 - val_loss: 1.4204 - val_accuracy: 0.7745 - lr: 0.0010\n",
      "Epoch 3/4\n",
      "97/97 [==============================] - ETA: 0s - loss: 0.0320 - accuracy: 0.9913WARNING:tensorflow:Can save best model only with val_acc available, skipping.\n",
      "WARNING:tensorflow:Learning rate reduction is conditioned on metric `val_acc` which is not available. Available metrics are: loss,accuracy,val_loss,val_accuracy,lr\n",
      "97/97 [==============================] - 29s 302ms/step - loss: 0.0320 - accuracy: 0.9913 - val_loss: 1.7660 - val_accuracy: 0.7629 - lr: 0.0010\n",
      "Epoch 4/4\n",
      "97/97 [==============================] - ETA: 0s - loss: 0.0432 - accuracy: 0.9906WARNING:tensorflow:Can save best model only with val_acc available, skipping.\n",
      "WARNING:tensorflow:Learning rate reduction is conditioned on metric `val_acc` which is not available. Available metrics are: loss,accuracy,val_loss,val_accuracy,lr\n",
      "97/97 [==============================] - 30s 305ms/step - loss: 0.0432 - accuracy: 0.9906 - val_loss: 1.5520 - val_accuracy: 0.8028 - lr: 0.0010\n"
     ]
    }
   ],
   "source": [
    "history=model.fit(x_train,y_train,batch_size=32,callbacks=[mcp_save,reduce_lr],epochs=4,validation_data=(x_test,y_test))"
   ]
  },
  {
   "cell_type": "code",
   "execution_count": 153,
   "id": "e1aa975e",
   "metadata": {
    "execution": {
     "iopub.execute_input": "2023-03-19T17:42:07.674122Z",
     "iopub.status.busy": "2023-03-19T17:42:07.673784Z",
     "iopub.status.idle": "2023-03-19T17:42:08.043146Z",
     "shell.execute_reply": "2023-03-19T17:42:08.042063Z"
    },
    "papermill": {
     "duration": 0.414804,
     "end_time": "2023-03-19T17:42:08.046078",
     "exception": false,
     "start_time": "2023-03-19T17:42:07.631274",
     "status": "completed"
    },
    "tags": []
   },
   "outputs": [
    {
     "name": "stdout",
     "output_type": "stream",
     "text": [
      "25/25 [==============================] - 1s 28ms/step - loss: 1.5520 - accuracy: 0.8028\n"
     ]
    }
   ],
   "source": [
    "acc = model.evaluate(x_test, y_test)"
   ]
  },
  {
   "cell_type": "code",
   "execution_count": 183,
   "id": "227287f8",
   "metadata": {
    "execution": {
     "iopub.execute_input": "2023-03-19T17:42:08.134742Z",
     "iopub.status.busy": "2023-03-19T17:42:08.133728Z",
     "iopub.status.idle": "2023-03-19T17:42:09.281313Z",
     "shell.execute_reply": "2023-03-19T17:42:09.280228Z"
    },
    "papermill": {
     "duration": 1.194584,
     "end_time": "2023-03-19T17:42:09.284135",
     "exception": false,
     "start_time": "2023-03-19T17:42:08.089551",
     "status": "completed"
    },
    "tags": []
   },
   "outputs": [
    {
     "name": "stderr",
     "output_type": "stream",
     "text": [
      "c:\\Users\\Rachit Patel\\AppData\\Local\\Programs\\Python\\Python311\\Lib\\site-packages\\keras\\src\\engine\\training.py:3079: UserWarning: You are saving your model as an HDF5 file via `model.save()`. This file format is considered legacy. We recommend using instead the native Keras format, e.g. `model.save('my_model.keras')`.\n",
      "  saving_api.save_model(\n"
     ]
    }
   ],
   "source": [
    "model.save('c:\\\\Users\\\\Rachit Patel\\\\DiseaseClassModel\\\\mediscan_nrfinal.h5')"
   ]
  },
  {
   "cell_type": "code",
   "execution_count": 155,
   "id": "06ef5194",
   "metadata": {
    "execution": {
     "iopub.execute_input": "2023-03-19T17:42:09.369910Z",
     "iopub.status.busy": "2023-03-19T17:42:09.369526Z",
     "iopub.status.idle": "2023-03-19T17:42:09.590935Z",
     "shell.execute_reply": "2023-03-19T17:42:09.589914Z"
    },
    "papermill": {
     "duration": 0.267391,
     "end_time": "2023-03-19T17:42:09.593863",
     "exception": false,
     "start_time": "2023-03-19T17:42:09.326472",
     "status": "completed"
    },
    "tags": []
   },
   "outputs": [],
   "source": [
    "from sklearn.metrics import classification_report, confusion_matrix, roc_curve, auc\n",
    "from mlxtend.plotting import plot_confusion_matrix"
   ]
  },
  {
   "cell_type": "code",
   "execution_count": 156,
   "id": "f76a3b9d",
   "metadata": {
    "execution": {
     "iopub.execute_input": "2023-03-19T17:42:09.680106Z",
     "iopub.status.busy": "2023-03-19T17:42:09.679758Z",
     "iopub.status.idle": "2023-03-19T17:42:10.044841Z",
     "shell.execute_reply": "2023-03-19T17:42:10.043759Z"
    },
    "papermill": {
     "duration": 0.411392,
     "end_time": "2023-03-19T17:42:10.047687",
     "exception": false,
     "start_time": "2023-03-19T17:42:09.636295",
     "status": "completed"
    },
    "tags": []
   },
   "outputs": [
    {
     "name": "stdout",
     "output_type": "stream",
     "text": [
      "25/25 [==============================] - 1s 29ms/step\n"
     ]
    }
   ],
   "source": [
    "y_pred=model.predict(x_test)"
   ]
  },
  {
   "cell_type": "code",
   "execution_count": 157,
   "id": "0fbe950b",
   "metadata": {
    "execution": {
     "iopub.execute_input": "2023-03-19T17:42:10.143368Z",
     "iopub.status.busy": "2023-03-19T17:42:10.142381Z",
     "iopub.status.idle": "2023-03-19T17:42:10.151100Z",
     "shell.execute_reply": "2023-03-19T17:42:10.150015Z"
    },
    "papermill": {
     "duration": 0.058429,
     "end_time": "2023-03-19T17:42:10.153588",
     "exception": false,
     "start_time": "2023-03-19T17:42:10.095159",
     "status": "completed"
    },
    "tags": []
   },
   "outputs": [
    {
     "data": {
      "text/plain": [
       "array([3, 4, 4, 3, 4, 4, 3, 4, 1, 3, 1, 3, 0, 3, 0, 0, 0, 0, 3, 4, 1, 3,\n",
       "       3, 4, 4, 4, 4, 0, 4, 4, 3, 3, 4, 0, 4, 4, 1, 3, 4, 0, 0, 3, 4, 3,\n",
       "       4, 3, 0, 4, 3, 4, 4, 0, 0, 0, 0, 4, 4, 4, 3, 4, 4, 0, 4, 3, 3, 0,\n",
       "       1, 4, 4, 4, 0, 3, 4, 3, 4, 3, 3, 4, 0, 4, 1, 3, 0, 3, 3, 4, 0, 3,\n",
       "       3, 4, 4, 0, 3, 3, 4, 4, 0, 4, 3, 0, 3, 1, 4, 4, 3, 1, 0, 3, 0, 1,\n",
       "       3, 0, 4, 3, 4, 3, 0, 3, 3, 4, 1, 4, 1, 0, 4, 3, 3, 3, 3, 4, 4, 1,\n",
       "       4, 1, 3, 3, 4, 3, 3, 3, 4, 3, 4, 1, 3, 3, 3, 3, 1, 3, 4, 4, 4, 3,\n",
       "       3, 1, 1, 0, 3, 3, 0, 0, 4, 3, 3, 4, 3, 1, 0, 0, 3, 3, 0, 3, 0, 0,\n",
       "       3, 4, 3, 1, 3, 0, 0, 4, 0, 3, 3, 0, 3, 0, 1, 4, 1, 0, 3, 1, 3, 4,\n",
       "       1, 0, 1, 3, 3, 0, 3, 0, 3, 0, 4, 3, 3, 3, 4, 0, 3, 3, 0, 0, 1, 4,\n",
       "       1, 4, 1, 3, 4, 3, 0, 4, 4, 1, 3, 0, 1, 4, 0, 1, 4, 4, 1, 3, 3, 4,\n",
       "       3, 4, 3, 1, 1, 4, 0, 4, 0, 3, 3, 4, 4, 3, 0, 3, 4, 0, 0, 3, 4, 0,\n",
       "       3, 0, 4, 1, 4, 4, 4, 3, 3, 2, 1, 3, 3, 1, 4, 4, 4, 4, 4, 4, 1, 4,\n",
       "       0, 3, 3, 4, 4, 1, 1, 3, 1, 4, 1, 4, 3, 4, 4, 3, 4, 4, 0, 1, 4, 3,\n",
       "       4, 4, 3, 3, 3, 0, 3, 3, 4, 4, 3, 4, 4, 0, 4, 1, 3, 0, 1, 4, 0, 3,\n",
       "       0, 3, 3, 3, 0, 3, 3, 3, 3, 3, 3, 4, 4, 3, 3, 3, 0, 3, 3, 3, 3, 0,\n",
       "       0, 4, 0, 0, 4, 3, 0, 0, 3, 0, 4, 1, 4, 4, 3, 3, 3, 4, 0, 4, 0, 4,\n",
       "       0, 3, 4, 3, 3, 4, 3, 4, 4, 4, 1, 0, 4, 3, 4, 4, 3, 3, 1, 1, 4, 4,\n",
       "       0, 0, 1, 4, 0, 4, 3, 0, 4, 4, 3, 0, 4, 0, 0, 4, 3, 0, 3, 0, 4, 4,\n",
       "       3, 4, 3, 4, 3, 3, 3, 1, 2, 4, 3, 4, 4, 3, 0, 4, 4, 0, 4, 4, 4, 4,\n",
       "       4, 4, 4, 0, 4, 4, 4, 0, 3, 1, 1, 0, 3, 0, 3, 3, 3, 1, 0, 3, 1, 0,\n",
       "       4, 4, 4, 0, 4, 0, 4, 4, 4, 4, 0, 4, 4, 3, 0, 3, 3, 3, 3, 0, 1, 3,\n",
       "       4, 3, 3, 1, 3, 1, 0, 3, 4, 3, 0, 4, 1, 4, 1, 0, 4, 3, 0, 1, 3, 0,\n",
       "       1, 4, 4, 3, 1, 0, 3, 0, 3, 4, 0, 4, 3, 3, 0, 3, 4, 3, 4, 3, 3, 3,\n",
       "       4, 3, 3, 0, 3, 0, 4, 3, 0, 3, 0, 3, 3, 1, 3, 4, 3, 0, 0, 4, 4, 4,\n",
       "       0, 1, 4, 4, 0, 4, 0, 0, 0, 4, 1, 3, 3, 0, 0, 4, 3, 1, 3, 1, 3, 4,\n",
       "       4, 0, 4, 3, 0, 1, 4, 3, 4, 3, 3, 4, 1, 4, 0, 0, 3, 3, 3, 0, 3, 0,\n",
       "       0, 4, 0, 3, 4, 3, 4, 0, 4, 4, 3, 3, 4, 3, 4, 3, 3, 1, 0, 0, 0, 4,\n",
       "       4, 3, 4, 4, 3, 3, 4, 1, 4, 3, 0, 4, 3, 4, 0, 3, 0, 0, 0, 1, 1, 0,\n",
       "       3, 1, 0, 0, 0, 0, 4, 0, 0, 3, 4, 1, 0, 0, 3, 4, 3, 1, 0, 3, 4, 3,\n",
       "       0, 4, 1, 0, 0, 0, 0, 4, 3, 1, 0, 4, 4, 1, 0, 3, 4, 4, 0, 4, 1, 4,\n",
       "       1, 3, 1, 1, 3, 4, 3, 0, 4, 4, 4, 1, 0, 0, 4, 3, 4, 4, 3, 4, 4, 3,\n",
       "       0, 3, 4, 0, 3, 1, 0, 4, 4, 4, 1, 0, 3, 1, 4, 3, 4, 0, 0, 4, 3, 1,\n",
       "       0, 4, 3, 4, 1, 1, 3, 4, 0, 1, 0, 3, 0, 1, 1, 0, 1, 3, 0, 4, 1, 0,\n",
       "       1, 4, 4, 3, 1, 1, 3, 4, 0, 4, 0, 4, 4, 4, 1, 0, 4, 1, 4, 4, 3, 0,\n",
       "       4, 3, 0, 4, 3, 3], dtype=int64)"
      ]
     },
     "execution_count": 157,
     "metadata": {},
     "output_type": "execute_result"
    }
   ],
   "source": [
    "y_pred2=np.argmax(y_pred, axis=1)\n",
    "y_pred2"
   ]
  },
  {
   "cell_type": "code",
   "execution_count": 158,
   "id": "c21635b4",
   "metadata": {
    "execution": {
     "iopub.execute_input": "2023-03-19T17:42:10.243228Z",
     "iopub.status.busy": "2023-03-19T17:42:10.242872Z",
     "iopub.status.idle": "2023-03-19T17:42:10.248562Z",
     "shell.execute_reply": "2023-03-19T17:42:10.247580Z"
    },
    "papermill": {
     "duration": 0.052777,
     "end_time": "2023-03-19T17:42:10.250784",
     "exception": false,
     "start_time": "2023-03-19T17:42:10.198007",
     "status": "completed"
    },
    "tags": []
   },
   "outputs": [],
   "source": [
    "y_test=np.argmax(y_test, axis=1)"
   ]
  },
  {
   "cell_type": "code",
   "execution_count": 159,
   "id": "f99faf77",
   "metadata": {
    "execution": {
     "iopub.execute_input": "2023-03-19T17:42:10.338194Z",
     "iopub.status.busy": "2023-03-19T17:42:10.337820Z",
     "iopub.status.idle": "2023-03-19T17:42:10.345385Z",
     "shell.execute_reply": "2023-03-19T17:42:10.344388Z"
    },
    "papermill": {
     "duration": 0.053523,
     "end_time": "2023-03-19T17:42:10.347659",
     "exception": false,
     "start_time": "2023-03-19T17:42:10.294136",
     "status": "completed"
    },
    "tags": []
   },
   "outputs": [
    {
     "data": {
      "text/plain": [
       "array([3, 4, 3, 3, 4, 4, 3, 4, 1, 3, 1, 3, 0, 4, 0, 4, 3, 0, 3, 4, 1, 3,\n",
       "       3, 4, 4, 4, 4, 3, 4, 4, 3, 3, 4, 4, 3, 4, 1, 3, 4, 0, 0, 3, 3, 3,\n",
       "       4, 3, 0, 4, 4, 4, 4, 0, 0, 0, 0, 4, 3, 4, 3, 4, 4, 0, 4, 3, 3, 0,\n",
       "       1, 4, 4, 4, 3, 3, 4, 1, 1, 3, 4, 4, 0, 4, 1, 3, 0, 3, 3, 4, 0, 3,\n",
       "       4, 4, 4, 0, 3, 3, 4, 4, 0, 4, 3, 0, 3, 1, 4, 4, 3, 1, 0, 3, 1, 1,\n",
       "       3, 0, 4, 3, 4, 3, 0, 3, 3, 4, 1, 3, 3, 0, 4, 3, 4, 3, 3, 4, 4, 1,\n",
       "       4, 1, 3, 3, 3, 4, 4, 3, 4, 3, 4, 1, 3, 4, 4, 3, 4, 3, 3, 4, 4, 3,\n",
       "       3, 0, 0, 0, 3, 3, 0, 4, 4, 3, 3, 4, 3, 1, 0, 0, 4, 3, 0, 3, 0, 3,\n",
       "       4, 4, 4, 1, 3, 3, 0, 4, 0, 3, 3, 4, 3, 0, 1, 4, 1, 0, 3, 1, 3, 4,\n",
       "       1, 0, 1, 3, 3, 0, 3, 0, 0, 0, 4, 4, 0, 4, 4, 0, 3, 3, 0, 0, 1, 3,\n",
       "       1, 4, 1, 3, 3, 3, 3, 4, 4, 0, 3, 3, 1, 4, 0, 1, 4, 4, 1, 0, 3, 3,\n",
       "       3, 4, 3, 1, 1, 3, 0, 4, 0, 3, 3, 4, 4, 0, 0, 3, 3, 0, 0, 3, 4, 1,\n",
       "       3, 0, 4, 1, 3, 4, 4, 4, 3, 2, 1, 3, 2, 1, 4, 4, 4, 0, 4, 3, 1, 0,\n",
       "       0, 3, 3, 4, 4, 1, 1, 3, 1, 4, 1, 4, 3, 3, 4, 3, 4, 3, 0, 1, 4, 3,\n",
       "       4, 3, 3, 3, 3, 2, 3, 3, 4, 4, 3, 4, 4, 3, 4, 1, 3, 0, 0, 4, 3, 3,\n",
       "       0, 4, 3, 3, 0, 4, 3, 3, 0, 3, 3, 4, 1, 3, 3, 3, 0, 3, 1, 3, 4, 0,\n",
       "       0, 4, 0, 0, 4, 3, 0, 3, 3, 0, 4, 1, 0, 4, 3, 4, 4, 4, 0, 4, 1, 3,\n",
       "       0, 3, 3, 3, 3, 4, 4, 4, 3, 4, 0, 0, 4, 3, 3, 4, 0, 3, 1, 1, 4, 4,\n",
       "       0, 0, 1, 2, 0, 4, 3, 0, 3, 1, 3, 3, 4, 0, 3, 4, 3, 4, 3, 4, 3, 4,\n",
       "       3, 4, 3, 3, 3, 3, 3, 1, 2, 4, 3, 4, 4, 3, 0, 4, 4, 3, 4, 4, 3, 3,\n",
       "       0, 4, 3, 0, 4, 0, 4, 3, 3, 1, 0, 0, 3, 3, 3, 3, 3, 1, 0, 3, 0, 1,\n",
       "       4, 4, 4, 0, 4, 0, 4, 3, 4, 4, 0, 4, 3, 3, 0, 3, 3, 3, 1, 0, 1, 3,\n",
       "       4, 4, 3, 4, 3, 1, 0, 3, 4, 3, 0, 3, 1, 3, 1, 0, 4, 3, 0, 1, 3, 0,\n",
       "       1, 4, 4, 3, 1, 4, 4, 0, 2, 4, 3, 4, 3, 0, 0, 3, 4, 3, 4, 3, 3, 3,\n",
       "       4, 3, 3, 0, 3, 0, 4, 3, 0, 4, 0, 0, 3, 1, 4, 4, 3, 0, 1, 4, 3, 4,\n",
       "       3, 0, 4, 4, 0, 3, 0, 0, 0, 4, 3, 4, 3, 0, 0, 3, 3, 1, 3, 0, 3, 4,\n",
       "       4, 0, 4, 3, 0, 1, 4, 3, 4, 3, 3, 4, 1, 4, 4, 0, 0, 3, 4, 0, 3, 0,\n",
       "       0, 4, 0, 3, 4, 3, 4, 1, 4, 4, 4, 3, 4, 3, 4, 3, 3, 1, 0, 0, 0, 4,\n",
       "       4, 3, 4, 4, 3, 3, 4, 1, 4, 3, 0, 4, 3, 4, 0, 3, 0, 0, 0, 1, 1, 0,\n",
       "       3, 1, 0, 0, 1, 0, 2, 0, 0, 2, 4, 1, 0, 0, 2, 4, 3, 1, 4, 3, 4, 3,\n",
       "       0, 4, 1, 3, 0, 0, 0, 4, 3, 0, 3, 3, 4, 4, 0, 3, 4, 4, 0, 4, 1, 2,\n",
       "       1, 3, 1, 1, 3, 4, 3, 0, 4, 4, 4, 1, 0, 0, 4, 3, 4, 4, 3, 4, 4, 3,\n",
       "       0, 4, 3, 0, 3, 1, 0, 4, 4, 1, 1, 0, 3, 1, 4, 3, 4, 0, 0, 4, 3, 1,\n",
       "       0, 4, 3, 4, 1, 1, 3, 4, 0, 1, 0, 4, 3, 1, 1, 0, 1, 0, 4, 4, 1, 0,\n",
       "       1, 4, 4, 3, 1, 1, 3, 4, 0, 4, 0, 4, 4, 4, 1, 3, 3, 1, 3, 4, 1, 0,\n",
       "       0, 3, 0, 4, 3, 3], dtype=int64)"
      ]
     },
     "execution_count": 159,
     "metadata": {},
     "output_type": "execute_result"
    }
   ],
   "source": [
    "y_test"
   ]
  },
  {
   "cell_type": "code",
   "execution_count": 160,
   "id": "dc5bfba2",
   "metadata": {
    "execution": {
     "iopub.execute_input": "2023-03-19T17:42:10.435135Z",
     "iopub.status.busy": "2023-03-19T17:42:10.434546Z",
     "iopub.status.idle": "2023-03-19T17:42:10.441126Z",
     "shell.execute_reply": "2023-03-19T17:42:10.440103Z"
    },
    "papermill": {
     "duration": 0.052129,
     "end_time": "2023-03-19T17:42:10.443205",
     "exception": false,
     "start_time": "2023-03-19T17:42:10.391076",
     "status": "completed"
    },
    "tags": []
   },
   "outputs": [],
   "source": [
    "confusion_matrix_result=confusion_matrix(y_test,y_pred2)"
   ]
  },
  {
   "cell_type": "code",
   "execution_count": 161,
   "id": "57cf0e15",
   "metadata": {
    "execution": {
     "iopub.execute_input": "2023-03-19T17:42:10.528273Z",
     "iopub.status.busy": "2023-03-19T17:42:10.527952Z",
     "iopub.status.idle": "2023-03-19T17:42:10.768623Z",
     "shell.execute_reply": "2023-03-19T17:42:10.767523Z"
    },
    "papermill": {
     "duration": 0.285756,
     "end_time": "2023-03-19T17:42:10.770849",
     "exception": false,
     "start_time": "2023-03-19T17:42:10.485093",
     "status": "completed"
    },
    "tags": []
   },
   "outputs": [
    {
     "data": {
      "image/png": "[encoded data removed]",
      "text/plain": [
       "<Figure size 640x480 with 2 Axes>"
      ]
     },
     "metadata": {},
     "output_type": "display_data"
    }
   ],
   "source": [
    "import seaborn as sns\n",
    "import matplotlib.pyplot as plt     \n",
    "import pylab as pl\n",
    "plt.title(\"skin detection Eczema vs normal using ResNet50 \")\n",
    "plt.xticks(range(2), ['normal', 'Eczema'], fontsize=16)\n",
    "plt.yticks(range(2), ['normal', 'Eczema'], fontsize=16)\n",
    "ax= plt.subplot()\n",
    "sns.heatmap(confusion_matrix_result, annot=True, fmt='g', ax=ax);\n",
    "pl.show()"
   ]
  },
  {
   "cell_type": "code",
   "execution_count": 162,
   "id": "c880a40e",
   "metadata": {
    "execution": {
     "iopub.execute_input": "2023-03-19T17:42:10.860724Z",
     "iopub.status.busy": "2023-03-19T17:42:10.858989Z",
     "iopub.status.idle": "2023-03-19T17:42:11.265917Z",
     "shell.execute_reply": "2023-03-19T17:42:11.264873Z"
    },
    "papermill": {
     "duration": 0.45357,
     "end_time": "2023-03-19T17:42:11.268307",
     "exception": false,
     "start_time": "2023-03-19T17:42:10.814737",
     "status": "completed"
    },
    "tags": []
   },
   "outputs": [
    {
     "data": {
      "text/plain": [
       "<matplotlib.legend.Legend at 0x1b7bb480650>"
      ]
     },
     "execution_count": 162,
     "metadata": {},
     "output_type": "execute_result"
    },
    {
     "data": {
      "image/png": "[encoded data removed]",
      "text/plain": [
       "<Figure size 1200x400 with 2 Axes>"
      ]
     },
     "metadata": {},
     "output_type": "display_data"
    }
   ],
   "source": [
    "train_accuracy = history.history['accuracy']\n",
    "val_accuracy = history.history['val_accuracy']\n",
    "train_loss = history.history['loss']\n",
    "val_loss = history.history['val_loss']\n",
    "\n",
    "epochs = range(len(train_accuracy))\n",
    "plt.figure(figsize=(12,4))\n",
    "\n",
    "# Plotting the accuracy\n",
    "plt.subplot(1,2,1)\n",
    "plt.plot(epochs, train_accuracy, 'b', label='Training accuracy')\n",
    "plt.plot(epochs, val_accuracy, 'r', label='Validation accuracy')\n",
    "plt.title('Training and validation accuracy')\n",
    "plt.xlabel('Epoch')\n",
    "plt.ylabel('Accuracy')\n",
    "plt.legend(['train', 'val'], loc='lower right')\n",
    "\n",
    "# Plotting the loss\n",
    "plt.subplot(1,2,2)\n",
    "plt.plot(epochs, train_loss, 'b', label='Training loss')\n",
    "plt.plot(epochs, val_loss, 'r', label='Validation loss')\n",
    "plt.title('Training and validation loss')\n",
    "plt.xlabel('Epoch')\n",
    "plt.ylabel('Loss')\n",
    "plt.legend(['train', 'val'], loc='upper right')"
   ]
  },
  {
   "cell_type": "code",
   "execution_count": 163,
   "id": "b4e95067",
   "metadata": {
    "execution": {
     "iopub.execute_input": "2023-03-19T17:42:11.356731Z",
     "iopub.status.busy": "2023-03-19T17:42:11.356338Z",
     "iopub.status.idle": "2023-03-19T17:42:11.364227Z",
     "shell.execute_reply": "2023-03-19T17:42:11.363570Z"
    },
    "papermill": {
     "duration": 0.05419,
     "end_time": "2023-03-19T17:42:11.366248",
     "exception": false,
     "start_time": "2023-03-19T17:42:11.312058",
     "status": "completed"
    },
    "tags": []
   },
   "outputs": [],
   "source": [
    "import os\n",
    "import matplotlib.pyplot as plt\n",
    "import cv2\n",
    "from tensorflow.keras.models import Model, Sequential\n",
    "from tensorflow.keras.layers import Input, Convolution2D, ZeroPadding2D,MaxPooling2D, Flatten, Dense, Dropout, Activation\n",
    "from PIL import Image\n",
    "import numpy as np\n",
    "from tensorflow.keras.preprocessing.image import load_img, save_img, img_to_array\n",
    "from tensorflow.keras.applications.imagenet_utils import preprocess_input\n",
    "from tensorflow.keras.preprocessing import image\n",
    "import pandas as pd\n",
    "import tensorflow as tf\n",
    "import keras\n",
    "import pickle"
   ]
  },
  {
   "cell_type": "code",
   "execution_count": 164,
   "id": "d892df87",
   "metadata": {
    "execution": {
     "iopub.execute_input": "2023-03-19T17:42:11.455319Z",
     "iopub.status.busy": "2023-03-19T17:42:11.454966Z",
     "iopub.status.idle": "2023-03-19T17:42:11.465430Z",
     "shell.execute_reply": "2023-03-19T17:42:11.464410Z"
    },
    "papermill": {
     "duration": 0.057497,
     "end_time": "2023-03-19T17:42:11.467958",
     "exception": false,
     "start_time": "2023-03-19T17:42:11.410461",
     "status": "completed"
    },
    "tags": []
   },
   "outputs": [],
   "source": [
    "confusion_matrix=classification_report(y_test,y_pred2)\n",
    "\n"
   ]
  },
  {
   "cell_type": "code",
   "execution_count": 165,
   "id": "ece26b21",
   "metadata": {
    "execution": {
     "iopub.execute_input": "2023-03-19T17:42:11.554832Z",
     "iopub.status.busy": "2023-03-19T17:42:11.554508Z",
     "iopub.status.idle": "2023-03-19T17:42:11.560483Z",
     "shell.execute_reply": "2023-03-19T17:42:11.559478Z"
    },
    "papermill": {
     "duration": 0.052205,
     "end_time": "2023-03-19T17:42:11.563316",
     "exception": false,
     "start_time": "2023-03-19T17:42:11.511111",
     "status": "completed"
    },
    "tags": []
   },
   "outputs": [
    {
     "name": "stdout",
     "output_type": "stream",
     "text": [
      "              precision    recall  f1-score   support\n",
      "\n",
      "           0       0.78      0.84      0.81       166\n",
      "           1       0.85      0.85      0.85       100\n",
      "           2       1.00      0.20      0.33        10\n",
      "           3       0.80      0.76      0.78       257\n",
      "           4       0.80      0.82      0.81       243\n",
      "\n",
      "    accuracy                           0.80       776\n",
      "   macro avg       0.85      0.70      0.72       776\n",
      "weighted avg       0.81      0.80      0.80       776\n",
      "\n"
     ]
    }
   ],
   "source": [
    "print(confusion_matrix)"
   ]
  },
  {
   "cell_type": "code",
   "execution_count": 166,
   "id": "5c72796d",
   "metadata": {
    "execution": {
     "iopub.execute_input": "2023-03-19T17:42:11.697590Z",
     "iopub.status.busy": "2023-03-19T17:42:11.697036Z",
     "iopub.status.idle": "2023-03-19T17:42:11.708195Z",
     "shell.execute_reply": "2023-03-19T17:42:11.706842Z"
    },
    "papermill": {
     "duration": 0.100012,
     "end_time": "2023-03-19T17:42:11.712860",
     "exception": false,
     "start_time": "2023-03-19T17:42:11.612848",
     "status": "completed"
    },
    "tags": []
   },
   "outputs": [],
   "source": [
    "def load_img(img_path):\n",
    "    images=[]\n",
    "    img=cv2.imread(img_path)\n",
    "    img=cv2.resize(img,(180,180))\n",
    "    images.append(img)\n",
    "    x_test=np.asarray(images)\n",
    "    test_img=preprocess_input(x_test)\n",
    "    features_test=vgg_model.predict(test_img)\n",
    "    num_test=x_test.shape[0]\n",
    "    f_img=features_test.reshape(1, -1)\n",
    "\n",
    "    return f_img\n"
   ]
  },
  {
   "cell_type": "code",
   "execution_count": 181,
   "id": "18190a46",
   "metadata": {
    "execution": {
     "iopub.execute_input": "2023-03-19T17:42:11.855740Z",
     "iopub.status.busy": "2023-03-19T17:42:11.855252Z",
     "iopub.status.idle": "2023-03-19T17:42:12.337185Z",
     "shell.execute_reply": "2023-03-19T17:42:12.335748Z"
    },
    "papermill": {
     "duration": 0.553403,
     "end_time": "2023-03-19T17:42:12.338865",
     "exception": true,
     "start_time": "2023-03-19T17:42:11.785462",
     "status": "failed"
    },
    "tags": []
   },
   "outputs": [
    {
     "name": "stdout",
     "output_type": "stream",
     "text": [
      "1/1 [==============================] - 0s 44ms/step\n"
     ]
    }
   ],
   "source": [
    "img=load_img(\"C:\\\\Users\\\\Rachit Patel\\\\Downloads\\\\download (1).jpg\")"
   ]
  },
  {
   "cell_type": "code",
   "execution_count": 182,
   "id": "a47081f5",
   "metadata": {
    "execution": {
     "iopub.execute_input": "2023-03-19T17:36:27.224782Z",
     "iopub.status.busy": "2023-03-19T17:36:27.224286Z",
     "iopub.status.idle": "2023-03-19T17:36:27.352619Z",
     "shell.execute_reply": "2023-03-19T17:36:27.349948Z",
     "shell.execute_reply.started": "2023-03-19T17:36:27.224739Z"
    },
    "papermill": {
     "duration": null,
     "end_time": null,
     "exception": null,
     "start_time": null,
     "status": "pending"
    },
    "tags": []
   },
   "outputs": [
    {
     "name": "stdout",
     "output_type": "stream",
     "text": [
      "1/1 [==============================] - 0s 44ms/step\n"
     ]
    },
    {
     "data": {
      "text/plain": [
       "3"
      ]
     },
     "execution_count": 182,
     "metadata": {},
     "output_type": "execute_result"
    }
   ],
   "source": [
    "np.argmax(model.predict(img))"
   ]
  }
 ],
 "metadata": {
  "kernelspec": {
   "display_name": "Python 3",
   "language": "python",
   "name": "python3"
  },
  "language_info": {
   "codemirror_mode": {
    "name": "ipython",
    "version": 3
   },
   "file_extension": ".py",
   "mimetype": "text/x-python",
   "name": "python",
   "nbconvert_exporter": "python",
   "pygments_lexer": "ipython3",
   "version": "3.9.7"
  },
  "papermill": {
   "default_parameters": {},
   "duration": 150.901875,
   "end_time": "2023-03-19T17:42:15.408766",
   "environment_variables": {},
   "exception": true,
   "input_path": "__notebook__.ipynb",
   "output_path": "__notebook__.ipynb",
   "parameters": {},
   "start_time": "2023-03-19T17:39:44.506891",
   "version": "2.4.0"
  }
 },
 "nbformat": 4,
 "nbformat_minor": 5
}
